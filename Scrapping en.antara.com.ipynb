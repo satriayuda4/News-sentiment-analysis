{
 "cells": [
  {
   "cell_type": "markdown",
   "id": "8d5d5f45",
   "metadata": {},
   "source": [
    "# Prepare scrapping en.antaranew.com"
   ]
  },
  {
   "cell_type": "code",
   "execution_count": 283,
   "id": "cc056241",
   "metadata": {},
   "outputs": [],
   "source": [
    "from selenium import webdriver\n",
    "from selenium.webdriver.chrome.options import Options\n",
    "import pandas as pd\n",
    "import math\n",
    "from datetime import date\n",
    "from textblob import TextBlob"
   ]
  },
  {
   "cell_type": "code",
   "execution_count": 284,
   "id": "ba0dded0",
   "metadata": {},
   "outputs": [],
   "source": [
    "chrome_options = Options()\n",
    "chrome_options.add_argument(\"--headless\")"
   ]
  },
  {
   "cell_type": "code",
   "execution_count": 285,
   "id": "68f00392",
   "metadata": {},
   "outputs": [],
   "source": [
    "PATH = 'C:/Users/LENOVO-PC/Documents/New/chrome_driver/chromedriver.exe'\n",
    "driver = webdriver.Chrome(PATH, options = chrome_options)"
   ]
  },
  {
   "cell_type": "markdown",
   "id": "f22a6872",
   "metadata": {},
   "source": [
    "# Add keyword and generate the link"
   ]
  },
  {
   "cell_type": "code",
   "execution_count": 286,
   "id": "bd978b83",
   "metadata": {},
   "outputs": [
    {
     "name": "stdout",
     "output_type": "stream",
     "text": [
      "Input keyword: mitsubishi\n"
     ]
    }
   ],
   "source": [
    "keyword = input('Input keyword: ')\n",
    "#keyword = \"honda\""
   ]
  },
  {
   "cell_type": "code",
   "execution_count": 287,
   "id": "8671f7de",
   "metadata": {},
   "outputs": [
    {
     "name": "stdout",
     "output_type": "stream",
     "text": [
      "mitsubishi\n"
     ]
    }
   ],
   "source": [
    "keyword = keyword.replace(\" \", \"+\")\n",
    "print(keyword)"
   ]
  },
  {
   "cell_type": "code",
   "execution_count": 288,
   "id": "82b403ce",
   "metadata": {},
   "outputs": [],
   "source": [
    "def generate_link_home(keyword = keyword):\n",
    "    if len(keyword.split()) == 2:\n",
    "        keyword = keyword.replace(\" \", \"+\")\n",
    "    link = \"https://en.antaranews.com/search?q=\" + keyword + \"&startDate=&endDate=&submit=Submit\"\n",
    "    return link"
   ]
  },
  {
   "cell_type": "code",
   "execution_count": 289,
   "id": "8159e396",
   "metadata": {},
   "outputs": [
    {
     "name": "stdout",
     "output_type": "stream",
     "text": [
      "https://en.antaranews.com/search?q=mitsubishi&startDate=&endDate=&submit=Submit\n"
     ]
    }
   ],
   "source": [
    "link_home = generate_link_home()\n",
    "print(link_home)"
   ]
  },
  {
   "cell_type": "markdown",
   "id": "14e522fe",
   "metadata": {},
   "source": [
    "# Find the total article found"
   ]
  },
  {
   "cell_type": "code",
   "execution_count": 290,
   "id": "ce485667",
   "metadata": {},
   "outputs": [],
   "source": [
    "def total_article():\n",
    "    link_home = generate_link_home()\n",
    "    driver.get(link_home)\n",
    "    element = driver.find_element_by_xpath('//*[@id=\"main-container\"]/div[2]/div/div[1]/div[1]/div[1]/h1/span')\n",
    "    href = element.text\n",
    "    href = href.split()\n",
    "    num = int(href[3])\n",
    "    return num"
   ]
  },
  {
   "cell_type": "code",
   "execution_count": 291,
   "id": "ddc227e4",
   "metadata": {},
   "outputs": [
    {
     "name": "stdout",
     "output_type": "stream",
     "text": [
      "Found 20 of mitsubishi's article\n",
      "Wall time: 2.47 s\n"
     ]
    }
   ],
   "source": [
    "%%time\n",
    "num_of_article = total_article()\n",
    "print(\"Found\", num_of_article, \"of\", keyword + \"'s article\")"
   ]
  },
  {
   "cell_type": "markdown",
   "id": "d992b0bc",
   "metadata": {},
   "source": [
    "# Decide number of pages will scrap"
   ]
  },
  {
   "cell_type": "code",
   "execution_count": 292,
   "id": "395d501a",
   "metadata": {},
   "outputs": [],
   "source": [
    "def estimate_pages(num, article_num):\n",
    "    pages = math.ceil(article_num/num) \n",
    "    return pages"
   ]
  },
  {
   "cell_type": "code",
   "execution_count": 293,
   "id": "8c4e8ba5",
   "metadata": {},
   "outputs": [],
   "source": [
    "article_per_page = 10"
   ]
  },
  {
   "cell_type": "code",
   "execution_count": 294,
   "id": "e20f3390",
   "metadata": {},
   "outputs": [
    {
     "name": "stdout",
     "output_type": "stream",
     "text": [
      "Number of page is going to scrap 2\n"
     ]
    }
   ],
   "source": [
    "num_pages = estimate_pages(article_per_page, num_of_article)\n",
    "print(\"Number of page is going to scrap\", num_pages)"
   ]
  },
  {
   "cell_type": "markdown",
   "id": "ac18ee03",
   "metadata": {},
   "source": [
    "# Scrap link in one page"
   ]
  },
  {
   "cell_type": "code",
   "execution_count": 295,
   "id": "6b566ed9",
   "metadata": {},
   "outputs": [],
   "source": [
    "def open_page(page):\n",
    "    driver.get(page)"
   ]
  },
  {
   "cell_type": "code",
   "execution_count": 296,
   "id": "b0dcf4ab",
   "metadata": {},
   "outputs": [],
   "source": [
    "def scrap_one_link(article_num, link_store):\n",
    "    element = driver.find_element_by_xpath('//*[@id=\"main-container\"]/div[2]/div/div[1]/div[2]/div/article[' + str(article_num) + ']/header/h3/a')\n",
    "    href = element.get_attribute('href')\n",
    "    link_store.append(href)"
   ]
  },
  {
   "cell_type": "code",
   "execution_count": 297,
   "id": "a3af919e",
   "metadata": {},
   "outputs": [],
   "source": [
    "def scrap_link_page(link_page, article_num, store):\n",
    "    open_page(link_page)\n",
    "    for i in range(article_num):\n",
    "        i += 1\n",
    "        scrap_one_link(i, store)"
   ]
  },
  {
   "cell_type": "code",
   "execution_count": 298,
   "id": "c207be59",
   "metadata": {},
   "outputs": [
    {
     "data": {
      "text/plain": [
       "[]"
      ]
     },
     "execution_count": 298,
     "metadata": {},
     "output_type": "execute_result"
    }
   ],
   "source": [
    "link_ = []\n",
    "#scrap_link_page(link_home, article_per_page, link_)\n",
    "link_"
   ]
  },
  {
   "cell_type": "markdown",
   "id": "d29622c2",
   "metadata": {},
   "source": [
    "## Generate First Page link"
   ]
  },
  {
   "cell_type": "code",
   "execution_count": 299,
   "id": "37e50e16",
   "metadata": {},
   "outputs": [],
   "source": [
    "def generate_first_page(link_pages, keyword_ = keyword):\n",
    "    link = \"https://en.antaranews.com/search?q=\" + keyword_ + \"&startDate=&endDate=&submit=Submit\"\n",
    "    link_pages.append(link)\n",
    "    return link_pages"
   ]
  },
  {
   "cell_type": "code",
   "execution_count": 300,
   "id": "eca9530e",
   "metadata": {},
   "outputs": [
    {
     "name": "stdout",
     "output_type": "stream",
     "text": [
      "['https://en.antaranews.com/search?q=mitsubishi&startDate=&endDate=&submit=Submit']\n"
     ]
    }
   ],
   "source": [
    "link_page = []\n",
    "generate_first_page(link_page)\n",
    "print(link_page)"
   ]
  },
  {
   "cell_type": "markdown",
   "id": "9be07bd0",
   "metadata": {},
   "source": [
    "## Generate The Rest Page Link"
   ]
  },
  {
   "cell_type": "code",
   "execution_count": 301,
   "id": "78a9b5bb",
   "metadata": {},
   "outputs": [],
   "source": [
    "def generate_rest_page(link_pages, page_num = num_pages, keyword_ = keyword):\n",
    "    if page_num > 0:\n",
    "        for i in range(2,page_num+1):\n",
    "            link = \"https://en.antaranews.com/search/\" + keyword_ + \"/\" + str(i)\n",
    "            link_pages.append(link)\n",
    "    return link_pages"
   ]
  },
  {
   "cell_type": "code",
   "execution_count": 302,
   "id": "acd9d3f7",
   "metadata": {},
   "outputs": [
    {
     "data": {
      "text/plain": [
       "['https://en.antaranews.com/search?q=mitsubishi&startDate=&endDate=&submit=Submit',\n",
       " 'https://en.antaranews.com/search/mitsubishi/2']"
      ]
     },
     "execution_count": 302,
     "metadata": {},
     "output_type": "execute_result"
    }
   ],
   "source": [
    "#link_page = []\n",
    "generate_rest_page(link_page)\n",
    "link_page"
   ]
  },
  {
   "cell_type": "markdown",
   "id": "3c35491d",
   "metadata": {},
   "source": [
    "# Scrap Link in Last Page"
   ]
  },
  {
   "cell_type": "markdown",
   "id": "31166ef4",
   "metadata": {},
   "source": [
    "## Counting the rest of article"
   ]
  },
  {
   "cell_type": "code",
   "execution_count": 303,
   "id": "ba448f95",
   "metadata": {},
   "outputs": [],
   "source": [
    "#Count the rest article\n",
    "def count_rest(n = num_of_article, a = article_per_page):\n",
    "    cnt = n%a\n",
    "    if cnt == 0:\n",
    "        cnt = 10\n",
    "        return cnt\n",
    "    else:\n",
    "        return cnt"
   ]
  },
  {
   "cell_type": "code",
   "execution_count": 304,
   "id": "ca844503",
   "metadata": {},
   "outputs": [
    {
     "data": {
      "text/plain": [
       "10"
      ]
     },
     "execution_count": 304,
     "metadata": {},
     "output_type": "execute_result"
    }
   ],
   "source": [
    "rest = count_rest()\n",
    "rest"
   ]
  },
  {
   "cell_type": "markdown",
   "id": "1d5a10b7",
   "metadata": {},
   "source": [
    "## Scrap Last Page"
   ]
  },
  {
   "cell_type": "code",
   "execution_count": 305,
   "id": "498be168",
   "metadata": {},
   "outputs": [],
   "source": [
    "def scrap_last_page(link_page, num_rest, store):\n",
    "    open_page(link_page)\n",
    "    for i in range(num_rest):\n",
    "        i += 1\n",
    "        scrap_one_link(i, store)"
   ]
  },
  {
   "cell_type": "code",
   "execution_count": 306,
   "id": "5a628618",
   "metadata": {},
   "outputs": [
    {
     "ename": "NoSuchElementException",
     "evalue": "Message: no such element: Unable to locate element: {\"method\":\"xpath\",\"selector\":\"//*[@id=\"main-container\"]/div[2]/div/div[1]/div[2]/div/article[6]/header/h3/a\"}\n  (Session info: headless chrome=96.0.4664.110)\n",
     "output_type": "error",
     "traceback": [
      "\u001b[1;31m---------------------------------------------------------------------------\u001b[0m",
      "\u001b[1;31mNoSuchElementException\u001b[0m                    Traceback (most recent call last)",
      "\u001b[1;32m<ipython-input-306-63d4ebaa2b89>\u001b[0m in \u001b[0;36m<module>\u001b[1;34m\u001b[0m\n\u001b[0;32m      1\u001b[0m \u001b[0mlink_\u001b[0m \u001b[1;33m=\u001b[0m \u001b[1;33m[\u001b[0m\u001b[1;33m]\u001b[0m\u001b[1;33m\u001b[0m\u001b[1;33m\u001b[0m\u001b[0m\n\u001b[0;32m      2\u001b[0m \u001b[0mlast_page\u001b[0m \u001b[1;33m=\u001b[0m \u001b[0mlink_page\u001b[0m\u001b[1;33m[\u001b[0m\u001b[0mnum_pages\u001b[0m\u001b[1;33m-\u001b[0m\u001b[1;36m1\u001b[0m\u001b[1;33m]\u001b[0m\u001b[1;33m\u001b[0m\u001b[1;33m\u001b[0m\u001b[0m\n\u001b[1;32m----> 3\u001b[1;33m \u001b[0mscrap_last_page\u001b[0m\u001b[1;33m(\u001b[0m\u001b[0mlast_page\u001b[0m\u001b[1;33m,\u001b[0m \u001b[0mrest\u001b[0m\u001b[1;33m,\u001b[0m \u001b[0mlink_\u001b[0m\u001b[1;33m)\u001b[0m\u001b[1;33m\u001b[0m\u001b[1;33m\u001b[0m\u001b[0m\n\u001b[0m\u001b[0;32m      4\u001b[0m \u001b[0mlink_\u001b[0m\u001b[1;33m\u001b[0m\u001b[1;33m\u001b[0m\u001b[0m\n",
      "\u001b[1;32m<ipython-input-305-5efaa640f9a9>\u001b[0m in \u001b[0;36mscrap_last_page\u001b[1;34m(link_page, num_rest, store)\u001b[0m\n\u001b[0;32m      3\u001b[0m     \u001b[1;32mfor\u001b[0m \u001b[0mi\u001b[0m \u001b[1;32min\u001b[0m \u001b[0mrange\u001b[0m\u001b[1;33m(\u001b[0m\u001b[0mnum_rest\u001b[0m\u001b[1;33m)\u001b[0m\u001b[1;33m:\u001b[0m\u001b[1;33m\u001b[0m\u001b[1;33m\u001b[0m\u001b[0m\n\u001b[0;32m      4\u001b[0m         \u001b[0mi\u001b[0m \u001b[1;33m+=\u001b[0m \u001b[1;36m1\u001b[0m\u001b[1;33m\u001b[0m\u001b[1;33m\u001b[0m\u001b[0m\n\u001b[1;32m----> 5\u001b[1;33m         \u001b[0mscrap_one_link\u001b[0m\u001b[1;33m(\u001b[0m\u001b[0mi\u001b[0m\u001b[1;33m,\u001b[0m \u001b[0mstore\u001b[0m\u001b[1;33m)\u001b[0m\u001b[1;33m\u001b[0m\u001b[1;33m\u001b[0m\u001b[0m\n\u001b[0m",
      "\u001b[1;32m<ipython-input-296-dc18112c5ade>\u001b[0m in \u001b[0;36mscrap_one_link\u001b[1;34m(article_num, link_store)\u001b[0m\n\u001b[0;32m      1\u001b[0m \u001b[1;32mdef\u001b[0m \u001b[0mscrap_one_link\u001b[0m\u001b[1;33m(\u001b[0m\u001b[0marticle_num\u001b[0m\u001b[1;33m,\u001b[0m \u001b[0mlink_store\u001b[0m\u001b[1;33m)\u001b[0m\u001b[1;33m:\u001b[0m\u001b[1;33m\u001b[0m\u001b[1;33m\u001b[0m\u001b[0m\n\u001b[1;32m----> 2\u001b[1;33m     \u001b[0melement\u001b[0m \u001b[1;33m=\u001b[0m \u001b[0mdriver\u001b[0m\u001b[1;33m.\u001b[0m\u001b[0mfind_element_by_xpath\u001b[0m\u001b[1;33m(\u001b[0m\u001b[1;34m'//*[@id=\"main-container\"]/div[2]/div/div[1]/div[2]/div/article['\u001b[0m \u001b[1;33m+\u001b[0m \u001b[0mstr\u001b[0m\u001b[1;33m(\u001b[0m\u001b[0marticle_num\u001b[0m\u001b[1;33m)\u001b[0m \u001b[1;33m+\u001b[0m \u001b[1;34m']/header/h3/a'\u001b[0m\u001b[1;33m)\u001b[0m\u001b[1;33m\u001b[0m\u001b[1;33m\u001b[0m\u001b[0m\n\u001b[0m\u001b[0;32m      3\u001b[0m     \u001b[0mhref\u001b[0m \u001b[1;33m=\u001b[0m \u001b[0melement\u001b[0m\u001b[1;33m.\u001b[0m\u001b[0mget_attribute\u001b[0m\u001b[1;33m(\u001b[0m\u001b[1;34m'href'\u001b[0m\u001b[1;33m)\u001b[0m\u001b[1;33m\u001b[0m\u001b[1;33m\u001b[0m\u001b[0m\n\u001b[0;32m      4\u001b[0m     \u001b[0mlink_store\u001b[0m\u001b[1;33m.\u001b[0m\u001b[0mappend\u001b[0m\u001b[1;33m(\u001b[0m\u001b[0mhref\u001b[0m\u001b[1;33m)\u001b[0m\u001b[1;33m\u001b[0m\u001b[1;33m\u001b[0m\u001b[0m\n",
      "\u001b[1;32m~\\.conda\\envs\\Time-series\\lib\\site-packages\\selenium\\webdriver\\remote\\webdriver.py\u001b[0m in \u001b[0;36mfind_element_by_xpath\u001b[1;34m(self, xpath)\u001b[0m\n\u001b[0;32m    392\u001b[0m             \u001b[0melement\u001b[0m \u001b[1;33m=\u001b[0m \u001b[0mdriver\u001b[0m\u001b[1;33m.\u001b[0m\u001b[0mfind_element_by_xpath\u001b[0m\u001b[1;33m(\u001b[0m\u001b[1;34m'//div/td[1]'\u001b[0m\u001b[1;33m)\u001b[0m\u001b[1;33m\u001b[0m\u001b[1;33m\u001b[0m\u001b[0m\n\u001b[0;32m    393\u001b[0m         \"\"\"\n\u001b[1;32m--> 394\u001b[1;33m         \u001b[1;32mreturn\u001b[0m \u001b[0mself\u001b[0m\u001b[1;33m.\u001b[0m\u001b[0mfind_element\u001b[0m\u001b[1;33m(\u001b[0m\u001b[0mby\u001b[0m\u001b[1;33m=\u001b[0m\u001b[0mBy\u001b[0m\u001b[1;33m.\u001b[0m\u001b[0mXPATH\u001b[0m\u001b[1;33m,\u001b[0m \u001b[0mvalue\u001b[0m\u001b[1;33m=\u001b[0m\u001b[0mxpath\u001b[0m\u001b[1;33m)\u001b[0m\u001b[1;33m\u001b[0m\u001b[1;33m\u001b[0m\u001b[0m\n\u001b[0m\u001b[0;32m    395\u001b[0m \u001b[1;33m\u001b[0m\u001b[0m\n\u001b[0;32m    396\u001b[0m     \u001b[1;32mdef\u001b[0m \u001b[0mfind_elements_by_xpath\u001b[0m\u001b[1;33m(\u001b[0m\u001b[0mself\u001b[0m\u001b[1;33m,\u001b[0m \u001b[0mxpath\u001b[0m\u001b[1;33m)\u001b[0m\u001b[1;33m:\u001b[0m\u001b[1;33m\u001b[0m\u001b[1;33m\u001b[0m\u001b[0m\n",
      "\u001b[1;32m~\\.conda\\envs\\Time-series\\lib\\site-packages\\selenium\\webdriver\\remote\\webdriver.py\u001b[0m in \u001b[0;36mfind_element\u001b[1;34m(self, by, value)\u001b[0m\n\u001b[0;32m    974\u001b[0m                 \u001b[0mby\u001b[0m \u001b[1;33m=\u001b[0m \u001b[0mBy\u001b[0m\u001b[1;33m.\u001b[0m\u001b[0mCSS_SELECTOR\u001b[0m\u001b[1;33m\u001b[0m\u001b[1;33m\u001b[0m\u001b[0m\n\u001b[0;32m    975\u001b[0m                 \u001b[0mvalue\u001b[0m \u001b[1;33m=\u001b[0m \u001b[1;34m'[name=\"%s\"]'\u001b[0m \u001b[1;33m%\u001b[0m \u001b[0mvalue\u001b[0m\u001b[1;33m\u001b[0m\u001b[1;33m\u001b[0m\u001b[0m\n\u001b[1;32m--> 976\u001b[1;33m         return self.execute(Command.FIND_ELEMENT, {\n\u001b[0m\u001b[0;32m    977\u001b[0m             \u001b[1;34m'using'\u001b[0m\u001b[1;33m:\u001b[0m \u001b[0mby\u001b[0m\u001b[1;33m,\u001b[0m\u001b[1;33m\u001b[0m\u001b[1;33m\u001b[0m\u001b[0m\n\u001b[0;32m    978\u001b[0m             'value': value})['value']\n",
      "\u001b[1;32m~\\.conda\\envs\\Time-series\\lib\\site-packages\\selenium\\webdriver\\remote\\webdriver.py\u001b[0m in \u001b[0;36mexecute\u001b[1;34m(self, driver_command, params)\u001b[0m\n\u001b[0;32m    319\u001b[0m         \u001b[0mresponse\u001b[0m \u001b[1;33m=\u001b[0m \u001b[0mself\u001b[0m\u001b[1;33m.\u001b[0m\u001b[0mcommand_executor\u001b[0m\u001b[1;33m.\u001b[0m\u001b[0mexecute\u001b[0m\u001b[1;33m(\u001b[0m\u001b[0mdriver_command\u001b[0m\u001b[1;33m,\u001b[0m \u001b[0mparams\u001b[0m\u001b[1;33m)\u001b[0m\u001b[1;33m\u001b[0m\u001b[1;33m\u001b[0m\u001b[0m\n\u001b[0;32m    320\u001b[0m         \u001b[1;32mif\u001b[0m \u001b[0mresponse\u001b[0m\u001b[1;33m:\u001b[0m\u001b[1;33m\u001b[0m\u001b[1;33m\u001b[0m\u001b[0m\n\u001b[1;32m--> 321\u001b[1;33m             \u001b[0mself\u001b[0m\u001b[1;33m.\u001b[0m\u001b[0merror_handler\u001b[0m\u001b[1;33m.\u001b[0m\u001b[0mcheck_response\u001b[0m\u001b[1;33m(\u001b[0m\u001b[0mresponse\u001b[0m\u001b[1;33m)\u001b[0m\u001b[1;33m\u001b[0m\u001b[1;33m\u001b[0m\u001b[0m\n\u001b[0m\u001b[0;32m    322\u001b[0m             response['value'] = self._unwrap_value(\n\u001b[0;32m    323\u001b[0m                 response.get('value', None))\n",
      "\u001b[1;32m~\\.conda\\envs\\Time-series\\lib\\site-packages\\selenium\\webdriver\\remote\\errorhandler.py\u001b[0m in \u001b[0;36mcheck_response\u001b[1;34m(self, response)\u001b[0m\n\u001b[0;32m    240\u001b[0m                 \u001b[0malert_text\u001b[0m \u001b[1;33m=\u001b[0m \u001b[0mvalue\u001b[0m\u001b[1;33m[\u001b[0m\u001b[1;34m'alert'\u001b[0m\u001b[1;33m]\u001b[0m\u001b[1;33m.\u001b[0m\u001b[0mget\u001b[0m\u001b[1;33m(\u001b[0m\u001b[1;34m'text'\u001b[0m\u001b[1;33m)\u001b[0m\u001b[1;33m\u001b[0m\u001b[1;33m\u001b[0m\u001b[0m\n\u001b[0;32m    241\u001b[0m             \u001b[1;32mraise\u001b[0m \u001b[0mexception_class\u001b[0m\u001b[1;33m(\u001b[0m\u001b[0mmessage\u001b[0m\u001b[1;33m,\u001b[0m \u001b[0mscreen\u001b[0m\u001b[1;33m,\u001b[0m \u001b[0mstacktrace\u001b[0m\u001b[1;33m,\u001b[0m \u001b[0malert_text\u001b[0m\u001b[1;33m)\u001b[0m\u001b[1;33m\u001b[0m\u001b[1;33m\u001b[0m\u001b[0m\n\u001b[1;32m--> 242\u001b[1;33m         \u001b[1;32mraise\u001b[0m \u001b[0mexception_class\u001b[0m\u001b[1;33m(\u001b[0m\u001b[0mmessage\u001b[0m\u001b[1;33m,\u001b[0m \u001b[0mscreen\u001b[0m\u001b[1;33m,\u001b[0m \u001b[0mstacktrace\u001b[0m\u001b[1;33m)\u001b[0m\u001b[1;33m\u001b[0m\u001b[1;33m\u001b[0m\u001b[0m\n\u001b[0m\u001b[0;32m    243\u001b[0m \u001b[1;33m\u001b[0m\u001b[0m\n\u001b[0;32m    244\u001b[0m     \u001b[1;32mdef\u001b[0m \u001b[0m_value_or_default\u001b[0m\u001b[1;33m(\u001b[0m\u001b[0mself\u001b[0m\u001b[1;33m,\u001b[0m \u001b[0mobj\u001b[0m\u001b[1;33m,\u001b[0m \u001b[0mkey\u001b[0m\u001b[1;33m,\u001b[0m \u001b[0mdefault\u001b[0m\u001b[1;33m)\u001b[0m\u001b[1;33m:\u001b[0m\u001b[1;33m\u001b[0m\u001b[1;33m\u001b[0m\u001b[0m\n",
      "\u001b[1;31mNoSuchElementException\u001b[0m: Message: no such element: Unable to locate element: {\"method\":\"xpath\",\"selector\":\"//*[@id=\"main-container\"]/div[2]/div/div[1]/div[2]/div/article[6]/header/h3/a\"}\n  (Session info: headless chrome=96.0.4664.110)\n"
     ]
    }
   ],
   "source": [
    "link_ = []\n",
    "last_page = link_page[num_pages-1]\n",
    "scrap_last_page(last_page, rest, link_)\n",
    "link_"
   ]
  },
  {
   "cell_type": "markdown",
   "id": "458d59fc",
   "metadata": {},
   "source": [
    "# Scrap All Article Found (Link)"
   ]
  },
  {
   "cell_type": "code",
   "execution_count": 307,
   "id": "8fb5b93b",
   "metadata": {},
   "outputs": [
    {
     "name": "stdout",
     "output_type": "stream",
     "text": [
      "1 / 2\n",
      "2 / 2\n"
     ]
    },
    {
     "ename": "NoSuchElementException",
     "evalue": "Message: no such element: Unable to locate element: {\"method\":\"xpath\",\"selector\":\"//*[@id=\"main-container\"]/div[2]/div/div[1]/div[2]/div/article[6]/header/h3/a\"}\n  (Session info: headless chrome=96.0.4664.110)\n",
     "output_type": "error",
     "traceback": [
      "\u001b[1;31m---------------------------------------------------------------------------\u001b[0m",
      "\u001b[1;31mNoSuchElementException\u001b[0m                    Traceback (most recent call last)",
      "\u001b[1;32m<timed exec>\u001b[0m in \u001b[0;36m<module>\u001b[1;34m\u001b[0m\n",
      "\u001b[1;32m<ipython-input-305-5efaa640f9a9>\u001b[0m in \u001b[0;36mscrap_last_page\u001b[1;34m(link_page, num_rest, store)\u001b[0m\n\u001b[0;32m      3\u001b[0m     \u001b[1;32mfor\u001b[0m \u001b[0mi\u001b[0m \u001b[1;32min\u001b[0m \u001b[0mrange\u001b[0m\u001b[1;33m(\u001b[0m\u001b[0mnum_rest\u001b[0m\u001b[1;33m)\u001b[0m\u001b[1;33m:\u001b[0m\u001b[1;33m\u001b[0m\u001b[1;33m\u001b[0m\u001b[0m\n\u001b[0;32m      4\u001b[0m         \u001b[0mi\u001b[0m \u001b[1;33m+=\u001b[0m \u001b[1;36m1\u001b[0m\u001b[1;33m\u001b[0m\u001b[1;33m\u001b[0m\u001b[0m\n\u001b[1;32m----> 5\u001b[1;33m         \u001b[0mscrap_one_link\u001b[0m\u001b[1;33m(\u001b[0m\u001b[0mi\u001b[0m\u001b[1;33m,\u001b[0m \u001b[0mstore\u001b[0m\u001b[1;33m)\u001b[0m\u001b[1;33m\u001b[0m\u001b[1;33m\u001b[0m\u001b[0m\n\u001b[0m",
      "\u001b[1;32m<ipython-input-296-dc18112c5ade>\u001b[0m in \u001b[0;36mscrap_one_link\u001b[1;34m(article_num, link_store)\u001b[0m\n\u001b[0;32m      1\u001b[0m \u001b[1;32mdef\u001b[0m \u001b[0mscrap_one_link\u001b[0m\u001b[1;33m(\u001b[0m\u001b[0marticle_num\u001b[0m\u001b[1;33m,\u001b[0m \u001b[0mlink_store\u001b[0m\u001b[1;33m)\u001b[0m\u001b[1;33m:\u001b[0m\u001b[1;33m\u001b[0m\u001b[1;33m\u001b[0m\u001b[0m\n\u001b[1;32m----> 2\u001b[1;33m     \u001b[0melement\u001b[0m \u001b[1;33m=\u001b[0m \u001b[0mdriver\u001b[0m\u001b[1;33m.\u001b[0m\u001b[0mfind_element_by_xpath\u001b[0m\u001b[1;33m(\u001b[0m\u001b[1;34m'//*[@id=\"main-container\"]/div[2]/div/div[1]/div[2]/div/article['\u001b[0m \u001b[1;33m+\u001b[0m \u001b[0mstr\u001b[0m\u001b[1;33m(\u001b[0m\u001b[0marticle_num\u001b[0m\u001b[1;33m)\u001b[0m \u001b[1;33m+\u001b[0m \u001b[1;34m']/header/h3/a'\u001b[0m\u001b[1;33m)\u001b[0m\u001b[1;33m\u001b[0m\u001b[1;33m\u001b[0m\u001b[0m\n\u001b[0m\u001b[0;32m      3\u001b[0m     \u001b[0mhref\u001b[0m \u001b[1;33m=\u001b[0m \u001b[0melement\u001b[0m\u001b[1;33m.\u001b[0m\u001b[0mget_attribute\u001b[0m\u001b[1;33m(\u001b[0m\u001b[1;34m'href'\u001b[0m\u001b[1;33m)\u001b[0m\u001b[1;33m\u001b[0m\u001b[1;33m\u001b[0m\u001b[0m\n\u001b[0;32m      4\u001b[0m     \u001b[0mlink_store\u001b[0m\u001b[1;33m.\u001b[0m\u001b[0mappend\u001b[0m\u001b[1;33m(\u001b[0m\u001b[0mhref\u001b[0m\u001b[1;33m)\u001b[0m\u001b[1;33m\u001b[0m\u001b[1;33m\u001b[0m\u001b[0m\n",
      "\u001b[1;32m~\\.conda\\envs\\Time-series\\lib\\site-packages\\selenium\\webdriver\\remote\\webdriver.py\u001b[0m in \u001b[0;36mfind_element_by_xpath\u001b[1;34m(self, xpath)\u001b[0m\n\u001b[0;32m    392\u001b[0m             \u001b[0melement\u001b[0m \u001b[1;33m=\u001b[0m \u001b[0mdriver\u001b[0m\u001b[1;33m.\u001b[0m\u001b[0mfind_element_by_xpath\u001b[0m\u001b[1;33m(\u001b[0m\u001b[1;34m'//div/td[1]'\u001b[0m\u001b[1;33m)\u001b[0m\u001b[1;33m\u001b[0m\u001b[1;33m\u001b[0m\u001b[0m\n\u001b[0;32m    393\u001b[0m         \"\"\"\n\u001b[1;32m--> 394\u001b[1;33m         \u001b[1;32mreturn\u001b[0m \u001b[0mself\u001b[0m\u001b[1;33m.\u001b[0m\u001b[0mfind_element\u001b[0m\u001b[1;33m(\u001b[0m\u001b[0mby\u001b[0m\u001b[1;33m=\u001b[0m\u001b[0mBy\u001b[0m\u001b[1;33m.\u001b[0m\u001b[0mXPATH\u001b[0m\u001b[1;33m,\u001b[0m \u001b[0mvalue\u001b[0m\u001b[1;33m=\u001b[0m\u001b[0mxpath\u001b[0m\u001b[1;33m)\u001b[0m\u001b[1;33m\u001b[0m\u001b[1;33m\u001b[0m\u001b[0m\n\u001b[0m\u001b[0;32m    395\u001b[0m \u001b[1;33m\u001b[0m\u001b[0m\n\u001b[0;32m    396\u001b[0m     \u001b[1;32mdef\u001b[0m \u001b[0mfind_elements_by_xpath\u001b[0m\u001b[1;33m(\u001b[0m\u001b[0mself\u001b[0m\u001b[1;33m,\u001b[0m \u001b[0mxpath\u001b[0m\u001b[1;33m)\u001b[0m\u001b[1;33m:\u001b[0m\u001b[1;33m\u001b[0m\u001b[1;33m\u001b[0m\u001b[0m\n",
      "\u001b[1;32m~\\.conda\\envs\\Time-series\\lib\\site-packages\\selenium\\webdriver\\remote\\webdriver.py\u001b[0m in \u001b[0;36mfind_element\u001b[1;34m(self, by, value)\u001b[0m\n\u001b[0;32m    974\u001b[0m                 \u001b[0mby\u001b[0m \u001b[1;33m=\u001b[0m \u001b[0mBy\u001b[0m\u001b[1;33m.\u001b[0m\u001b[0mCSS_SELECTOR\u001b[0m\u001b[1;33m\u001b[0m\u001b[1;33m\u001b[0m\u001b[0m\n\u001b[0;32m    975\u001b[0m                 \u001b[0mvalue\u001b[0m \u001b[1;33m=\u001b[0m \u001b[1;34m'[name=\"%s\"]'\u001b[0m \u001b[1;33m%\u001b[0m \u001b[0mvalue\u001b[0m\u001b[1;33m\u001b[0m\u001b[1;33m\u001b[0m\u001b[0m\n\u001b[1;32m--> 976\u001b[1;33m         return self.execute(Command.FIND_ELEMENT, {\n\u001b[0m\u001b[0;32m    977\u001b[0m             \u001b[1;34m'using'\u001b[0m\u001b[1;33m:\u001b[0m \u001b[0mby\u001b[0m\u001b[1;33m,\u001b[0m\u001b[1;33m\u001b[0m\u001b[1;33m\u001b[0m\u001b[0m\n\u001b[0;32m    978\u001b[0m             'value': value})['value']\n",
      "\u001b[1;32m~\\.conda\\envs\\Time-series\\lib\\site-packages\\selenium\\webdriver\\remote\\webdriver.py\u001b[0m in \u001b[0;36mexecute\u001b[1;34m(self, driver_command, params)\u001b[0m\n\u001b[0;32m    319\u001b[0m         \u001b[0mresponse\u001b[0m \u001b[1;33m=\u001b[0m \u001b[0mself\u001b[0m\u001b[1;33m.\u001b[0m\u001b[0mcommand_executor\u001b[0m\u001b[1;33m.\u001b[0m\u001b[0mexecute\u001b[0m\u001b[1;33m(\u001b[0m\u001b[0mdriver_command\u001b[0m\u001b[1;33m,\u001b[0m \u001b[0mparams\u001b[0m\u001b[1;33m)\u001b[0m\u001b[1;33m\u001b[0m\u001b[1;33m\u001b[0m\u001b[0m\n\u001b[0;32m    320\u001b[0m         \u001b[1;32mif\u001b[0m \u001b[0mresponse\u001b[0m\u001b[1;33m:\u001b[0m\u001b[1;33m\u001b[0m\u001b[1;33m\u001b[0m\u001b[0m\n\u001b[1;32m--> 321\u001b[1;33m             \u001b[0mself\u001b[0m\u001b[1;33m.\u001b[0m\u001b[0merror_handler\u001b[0m\u001b[1;33m.\u001b[0m\u001b[0mcheck_response\u001b[0m\u001b[1;33m(\u001b[0m\u001b[0mresponse\u001b[0m\u001b[1;33m)\u001b[0m\u001b[1;33m\u001b[0m\u001b[1;33m\u001b[0m\u001b[0m\n\u001b[0m\u001b[0;32m    322\u001b[0m             response['value'] = self._unwrap_value(\n\u001b[0;32m    323\u001b[0m                 response.get('value', None))\n",
      "\u001b[1;32m~\\.conda\\envs\\Time-series\\lib\\site-packages\\selenium\\webdriver\\remote\\errorhandler.py\u001b[0m in \u001b[0;36mcheck_response\u001b[1;34m(self, response)\u001b[0m\n\u001b[0;32m    240\u001b[0m                 \u001b[0malert_text\u001b[0m \u001b[1;33m=\u001b[0m \u001b[0mvalue\u001b[0m\u001b[1;33m[\u001b[0m\u001b[1;34m'alert'\u001b[0m\u001b[1;33m]\u001b[0m\u001b[1;33m.\u001b[0m\u001b[0mget\u001b[0m\u001b[1;33m(\u001b[0m\u001b[1;34m'text'\u001b[0m\u001b[1;33m)\u001b[0m\u001b[1;33m\u001b[0m\u001b[1;33m\u001b[0m\u001b[0m\n\u001b[0;32m    241\u001b[0m             \u001b[1;32mraise\u001b[0m \u001b[0mexception_class\u001b[0m\u001b[1;33m(\u001b[0m\u001b[0mmessage\u001b[0m\u001b[1;33m,\u001b[0m \u001b[0mscreen\u001b[0m\u001b[1;33m,\u001b[0m \u001b[0mstacktrace\u001b[0m\u001b[1;33m,\u001b[0m \u001b[0malert_text\u001b[0m\u001b[1;33m)\u001b[0m\u001b[1;33m\u001b[0m\u001b[1;33m\u001b[0m\u001b[0m\n\u001b[1;32m--> 242\u001b[1;33m         \u001b[1;32mraise\u001b[0m \u001b[0mexception_class\u001b[0m\u001b[1;33m(\u001b[0m\u001b[0mmessage\u001b[0m\u001b[1;33m,\u001b[0m \u001b[0mscreen\u001b[0m\u001b[1;33m,\u001b[0m \u001b[0mstacktrace\u001b[0m\u001b[1;33m)\u001b[0m\u001b[1;33m\u001b[0m\u001b[1;33m\u001b[0m\u001b[0m\n\u001b[0m\u001b[0;32m    243\u001b[0m \u001b[1;33m\u001b[0m\u001b[0m\n\u001b[0;32m    244\u001b[0m     \u001b[1;32mdef\u001b[0m \u001b[0m_value_or_default\u001b[0m\u001b[1;33m(\u001b[0m\u001b[0mself\u001b[0m\u001b[1;33m,\u001b[0m \u001b[0mobj\u001b[0m\u001b[1;33m,\u001b[0m \u001b[0mkey\u001b[0m\u001b[1;33m,\u001b[0m \u001b[0mdefault\u001b[0m\u001b[1;33m)\u001b[0m\u001b[1;33m:\u001b[0m\u001b[1;33m\u001b[0m\u001b[1;33m\u001b[0m\u001b[0m\n",
      "\u001b[1;31mNoSuchElementException\u001b[0m: Message: no such element: Unable to locate element: {\"method\":\"xpath\",\"selector\":\"//*[@id=\"main-container\"]/div[2]/div/div[1]/div[2]/div/article[6]/header/h3/a\"}\n  (Session info: headless chrome=96.0.4664.110)\n"
     ]
    }
   ],
   "source": [
    "%%time\n",
    "article_link = []\n",
    "for i in range(len(link_page)):\n",
    "    link = link_page[i]\n",
    "    print(i+1, \"/\", len(link_page))\n",
    "    if i != len(link_page)-1 :\n",
    "        scrap_link_page(link, article_per_page, article_link)\n",
    "    else :\n",
    "        scrap_last_page(link, rest, article_link)"
   ]
  },
  {
   "cell_type": "code",
   "execution_count": 308,
   "id": "47402a71",
   "metadata": {},
   "outputs": [
    {
     "data": {
      "text/plain": [
       "15"
      ]
     },
     "execution_count": 308,
     "metadata": {},
     "output_type": "execute_result"
    }
   ],
   "source": [
    "len(article_link)"
   ]
  },
  {
   "cell_type": "code",
   "execution_count": 309,
   "id": "31083467",
   "metadata": {
    "scrolled": true
   },
   "outputs": [
    {
     "data": {
      "text/plain": [
       "['https://en.antaranews.com/news/175838/mitsubishi-power-aero-delivers-vital-power-project-to-mexico-rfp-issuance-to-commercial-operation-in-145-days',\n",
       " 'https://en.antaranews.com/news/171750/pw-power-systems-will-now-be-mitsubishi-power-aero-signifying-greater-integration-of-the-companies',\n",
       " 'https://en.antaranews.com/news/162884/mitsubishi-power-receives-order-for-facility-upgrade-at-the-makban-geothermal-power-plant-in-the-philippines',\n",
       " 'https://en.antaranews.com/news/155486/mitsubishi-power-established-with-renewed-commitment-to-transforming-energy-systems-around-the-world',\n",
       " 'https://en.antaranews.com/news/146836/mhps-announces-new-company-name-mitsubishi-power',\n",
       " 'https://en.antaranews.com/news/145294/mhps-world%E2%80%99s-most-efficient-power-plant-is-synced-to-the-grid-and-operating-at-full-load-ahead-of-schedule',\n",
       " 'https://en.antaranews.com/news/140076/bkpm-mitsubishi-chemical-deliberate-on-investment-expansion-plan',\n",
       " 'https://en.antaranews.com/news/128557/mitsubishi-motors-and-mitsubishi-corporation-invest-in-gojek-indonesias-leading-mobility-service-company',\n",
       " 'https://en.antaranews.com/news/125698/indonesia-to-be-mitsubishis-increasingly-significant-business-base',\n",
       " 'https://en.antaranews.com/news/118310/mitsubishi-jaya-elevator-to-increase-local-content-in-five-years',\n",
       " 'https://en.antaranews.com/news/86944/mitsubishi-car-sales-up-108-percent-in-2012',\n",
       " 'https://en.antaranews.com/news/86186/petrochemical-sales-will-increase-by-500-thousand-tonnes',\n",
       " 'https://en.antaranews.com/news/83351/kramayudha-launches-new-mitsubishi-passenger-car',\n",
       " 'https://en.antaranews.com/news/73538/mitsubishi-takes-over-daihatsu-toyota-still-leads',\n",
       " 'https://en.antaranews.com/news/68728/mitsubishi-plans-to-invest-up-to-us20-bln']"
      ]
     },
     "execution_count": 309,
     "metadata": {},
     "output_type": "execute_result"
    }
   ],
   "source": [
    "article_link"
   ]
  },
  {
   "cell_type": "markdown",
   "id": "678a0f08",
   "metadata": {},
   "source": [
    "# Scrap Article Details"
   ]
  },
  {
   "cell_type": "markdown",
   "id": "374fd9fb",
   "metadata": {},
   "source": [
    "## Get Article Title"
   ]
  },
  {
   "cell_type": "code",
   "execution_count": 310,
   "id": "bad335bf",
   "metadata": {},
   "outputs": [],
   "source": [
    "def open_article_link(link):\n",
    "    driver.get(link)"
   ]
  },
  {
   "cell_type": "code",
   "execution_count": 311,
   "id": "5200f150",
   "metadata": {},
   "outputs": [],
   "source": [
    "def get_article_title():\n",
    "    element = driver.find_element_by_xpath('//*[@id=\"main\"]/div/div[2]/div/div[1]/article/header/h1')\n",
    "    title = element.text\n",
    "    return title"
   ]
  },
  {
   "cell_type": "code",
   "execution_count": 312,
   "id": "a68fa23f",
   "metadata": {},
   "outputs": [
    {
     "name": "stdout",
     "output_type": "stream",
     "text": [
      "Mitsubishi Power Aero delivers vital power project to Mexico: RFP issuance to commercial operation in 145 days\n"
     ]
    }
   ],
   "source": [
    "open_article_link(article_link[0])\n",
    "print(get_article_title())"
   ]
  },
  {
   "cell_type": "markdown",
   "id": "f9a0399b",
   "metadata": {},
   "source": [
    "## Get All Article Title"
   ]
  },
  {
   "cell_type": "code",
   "execution_count": 313,
   "id": "6a797130",
   "metadata": {},
   "outputs": [],
   "source": [
    "for i in article_link:\n",
    "    open_article_link(i)\n",
    "    #print(get_article_title())"
   ]
  },
  {
   "cell_type": "markdown",
   "id": "60aa270b",
   "metadata": {},
   "source": [
    "## Get Article Release Date"
   ]
  },
  {
   "cell_type": "code",
   "execution_count": 314,
   "id": "f16f6b3a",
   "metadata": {},
   "outputs": [],
   "source": [
    "def get_date():\n",
    "    element = driver.find_element_by_xpath('//*[@id=\"main\"]/div/div[2]/div/div[1]/article/header/p/span')\n",
    "    return element.text"
   ]
  },
  {
   "cell_type": "code",
   "execution_count": 315,
   "id": "689e5958",
   "metadata": {},
   "outputs": [
    {
     "name": "stdout",
     "output_type": "stream",
     "text": [
      "6th April 2021\n"
     ]
    }
   ],
   "source": [
    "open_article_link(article_link[1])\n",
    "print(get_date())"
   ]
  },
  {
   "cell_type": "markdown",
   "id": "32ceabe5",
   "metadata": {},
   "source": [
    "## Change Recent Release Article to This Date"
   ]
  },
  {
   "cell_type": "code",
   "execution_count": 316,
   "id": "687ce22d",
   "metadata": {},
   "outputs": [],
   "source": [
    "def recent_date():\n",
    "    recent = date.today()\n",
    "    return str(recent)"
   ]
  },
  {
   "cell_type": "code",
   "execution_count": 317,
   "id": "8e06f6d4",
   "metadata": {},
   "outputs": [
    {
     "data": {
      "text/plain": [
       "'2021-12-28'"
      ]
     },
     "execution_count": 317,
     "metadata": {},
     "output_type": "execute_result"
    }
   ],
   "source": [
    "recent_date()"
   ]
  },
  {
   "cell_type": "markdown",
   "id": "dfacc697",
   "metadata": {},
   "source": [
    "# Scrap Title and Date"
   ]
  },
  {
   "cell_type": "code",
   "execution_count": 318,
   "id": "ce0ef21b",
   "metadata": {},
   "outputs": [],
   "source": [
    "article_ = []\n",
    "date_ = []"
   ]
  },
  {
   "cell_type": "code",
   "execution_count": 319,
   "id": "a3faf322",
   "metadata": {},
   "outputs": [],
   "source": [
    "def scrap_(link_list):\n",
    "    article = []\n",
    "    date = []\n",
    "    n = 1\n",
    "    for i in link_list:\n",
    "        open_article_link(i)\n",
    "        article.append(get_article_title())\n",
    "        #print(get_article_title())\n",
    "        j = get_date()\n",
    "        num = j.split()\n",
    "        if num[2] == \"ago\":\n",
    "            j = recent_date()\n",
    "            date.append(j)\n",
    "        else :\n",
    "            date.append(j)\n",
    "        print(str(n)+\"/\"+str(len(link_list)))\n",
    "        n += 1\n",
    "    return article, date"
   ]
  },
  {
   "cell_type": "code",
   "execution_count": 320,
   "id": "2a45bdcc",
   "metadata": {},
   "outputs": [
    {
     "name": "stdout",
     "output_type": "stream",
     "text": [
      "1/15\n",
      "2/15\n",
      "3/15\n",
      "4/15\n",
      "5/15\n",
      "6/15\n",
      "7/15\n",
      "8/15\n",
      "9/15\n",
      "10/15\n",
      "11/15\n",
      "12/15\n",
      "13/15\n",
      "14/15\n",
      "15/15\n",
      "Wall time: 19.3 s\n"
     ]
    }
   ],
   "source": [
    "%%time\n",
    "article_,date_ = scrap_(article_link)"
   ]
  },
  {
   "cell_type": "code",
   "execution_count": 321,
   "id": "e4b9bf23",
   "metadata": {},
   "outputs": [],
   "source": [
    "df = pd.DataFrame({'date': date_,\n",
    "                   'title': article_,\n",
    "                   'link': article_link})"
   ]
  },
  {
   "cell_type": "code",
   "execution_count": 322,
   "id": "682c2293",
   "metadata": {},
   "outputs": [
    {
     "data": {
      "text/html": [
       "<div>\n",
       "<style scoped>\n",
       "    .dataframe tbody tr th:only-of-type {\n",
       "        vertical-align: middle;\n",
       "    }\n",
       "\n",
       "    .dataframe tbody tr th {\n",
       "        vertical-align: top;\n",
       "    }\n",
       "\n",
       "    .dataframe thead th {\n",
       "        text-align: right;\n",
       "    }\n",
       "</style>\n",
       "<table border=\"1\" class=\"dataframe\">\n",
       "  <thead>\n",
       "    <tr style=\"text-align: right;\">\n",
       "      <th></th>\n",
       "      <th>date</th>\n",
       "      <th>title</th>\n",
       "      <th>link</th>\n",
       "    </tr>\n",
       "  </thead>\n",
       "  <tbody>\n",
       "    <tr>\n",
       "      <th>0</th>\n",
       "      <td>4th June 2021</td>\n",
       "      <td>Mitsubishi Power Aero delivers vital power pro...</td>\n",
       "      <td>https://en.antaranews.com/news/175838/mitsubis...</td>\n",
       "    </tr>\n",
       "    <tr>\n",
       "      <th>1</th>\n",
       "      <td>6th April 2021</td>\n",
       "      <td>PW Power Systems will now be Mitsubishi Power ...</td>\n",
       "      <td>https://en.antaranews.com/news/171750/pw-power...</td>\n",
       "    </tr>\n",
       "    <tr>\n",
       "      <th>2</th>\n",
       "      <td>2nd December 2020</td>\n",
       "      <td>Mitsubishi Power receives order for facility u...</td>\n",
       "      <td>https://en.antaranews.com/news/162884/mitsubis...</td>\n",
       "    </tr>\n",
       "    <tr>\n",
       "      <th>3</th>\n",
       "      <td>1st September 2020</td>\n",
       "      <td>Mitsubishi Power established with renewed comm...</td>\n",
       "      <td>https://en.antaranews.com/news/155486/mitsubis...</td>\n",
       "    </tr>\n",
       "    <tr>\n",
       "      <th>4</th>\n",
       "      <td>26th April 2020</td>\n",
       "      <td>MHPS announces new company name \"Mitsubishi Po...</td>\n",
       "      <td>https://en.antaranews.com/news/146836/mhps-ann...</td>\n",
       "    </tr>\n",
       "  </tbody>\n",
       "</table>\n",
       "</div>"
      ],
      "text/plain": [
       "                 date                                              title  \\\n",
       "0       4th June 2021  Mitsubishi Power Aero delivers vital power pro...   \n",
       "1      6th April 2021  PW Power Systems will now be Mitsubishi Power ...   \n",
       "2   2nd December 2020  Mitsubishi Power receives order for facility u...   \n",
       "3  1st September 2020  Mitsubishi Power established with renewed comm...   \n",
       "4     26th April 2020  MHPS announces new company name \"Mitsubishi Po...   \n",
       "\n",
       "                                                link  \n",
       "0  https://en.antaranews.com/news/175838/mitsubis...  \n",
       "1  https://en.antaranews.com/news/171750/pw-power...  \n",
       "2  https://en.antaranews.com/news/162884/mitsubis...  \n",
       "3  https://en.antaranews.com/news/155486/mitsubis...  \n",
       "4  https://en.antaranews.com/news/146836/mhps-ann...  "
      ]
     },
     "execution_count": 322,
     "metadata": {},
     "output_type": "execute_result"
    }
   ],
   "source": [
    "df.head()"
   ]
  },
  {
   "cell_type": "markdown",
   "id": "7b206f82",
   "metadata": {},
   "source": [
    "# Date-ing"
   ]
  },
  {
   "cell_type": "code",
   "execution_count": 323,
   "id": "13c8f338",
   "metadata": {},
   "outputs": [],
   "source": [
    "tmp = []"
   ]
  },
  {
   "cell_type": "code",
   "execution_count": 324,
   "id": "c74a2136",
   "metadata": {},
   "outputs": [],
   "source": [
    "def date_detection(string):\n",
    "    string = string.split()\n",
    "    string = string[0]\n",
    "    string = int(string[:-2])\n",
    "    return string"
   ]
  },
  {
   "cell_type": "code",
   "execution_count": 325,
   "id": "ccb31bb9",
   "metadata": {},
   "outputs": [],
   "source": [
    "def month_detection(string):\n",
    "    string = string.split()\n",
    "    string = string[1]\n",
    "    month = ['January', 'February', 'March', 'April', 'May', 'June', 'July', 'August', 'September', 'October', 'November', 'December']\n",
    "    string = month.index(string) + 1\n",
    "    return string"
   ]
  },
  {
   "cell_type": "code",
   "execution_count": 326,
   "id": "eead628d",
   "metadata": {},
   "outputs": [],
   "source": [
    "def year_detection(string):\n",
    "    string = string.split()\n",
    "    string = string[2]\n",
    "    string = int(string)\n",
    "    return string"
   ]
  },
  {
   "cell_type": "code",
   "execution_count": 327,
   "id": "ecbdd835",
   "metadata": {},
   "outputs": [
    {
     "name": "stdout",
     "output_type": "stream",
     "text": [
      "6th April 2021\n",
      "6\n",
      "4\n",
      "2021\n"
     ]
    }
   ],
   "source": [
    "print(df.date[1])\n",
    "print(date_detection(df.date[1]))\n",
    "print(month_detection(df.date[1]))\n",
    "print(year_detection(df.date[1]))"
   ]
  },
  {
   "cell_type": "code",
   "execution_count": 328,
   "id": "e2d51736",
   "metadata": {},
   "outputs": [],
   "source": [
    "def date_(string):\n",
    "    if len(string) > 10:\n",
    "        year = year_detection(string)\n",
    "        month = month_detection(string)\n",
    "        day = date_detection(string)\n",
    "        d = date(year, month, day)  \n",
    "        return d.isoformat()\n",
    "    else:\n",
    "        return string"
   ]
  },
  {
   "cell_type": "code",
   "execution_count": 329,
   "id": "6a19a9f2",
   "metadata": {},
   "outputs": [
    {
     "data": {
      "text/plain": [
       "'2021-04-06'"
      ]
     },
     "execution_count": 329,
     "metadata": {},
     "output_type": "execute_result"
    }
   ],
   "source": [
    "date_(df.date[1])"
   ]
  },
  {
   "cell_type": "code",
   "execution_count": 330,
   "id": "df5d8373",
   "metadata": {},
   "outputs": [
    {
     "name": "stdout",
     "output_type": "stream",
     "text": [
      "2021-06-04\n",
      "2021-04-06\n",
      "2020-12-02\n",
      "2020-09-01\n",
      "2020-04-26\n",
      "2020-04-02\n",
      "2020-01-22\n",
      "2019-07-08\n",
      "2019-05-18\n",
      "2018-09-08\n",
      "2013-01-18\n",
      "2012-12-14\n",
      "2012-07-10\n",
      "2011-07-08\n",
      "2011-03-03\n"
     ]
    }
   ],
   "source": [
    "for i in df['date']:\n",
    "    j = date_(i)\n",
    "    tmp.append(j)\n",
    "    print(j)"
   ]
  },
  {
   "cell_type": "code",
   "execution_count": 331,
   "id": "9263e66c",
   "metadata": {},
   "outputs": [
    {
     "data": {
      "text/html": [
       "<div>\n",
       "<style scoped>\n",
       "    .dataframe tbody tr th:only-of-type {\n",
       "        vertical-align: middle;\n",
       "    }\n",
       "\n",
       "    .dataframe tbody tr th {\n",
       "        vertical-align: top;\n",
       "    }\n",
       "\n",
       "    .dataframe thead th {\n",
       "        text-align: right;\n",
       "    }\n",
       "</style>\n",
       "<table border=\"1\" class=\"dataframe\">\n",
       "  <thead>\n",
       "    <tr style=\"text-align: right;\">\n",
       "      <th></th>\n",
       "      <th>date</th>\n",
       "      <th>title</th>\n",
       "      <th>link</th>\n",
       "    </tr>\n",
       "  </thead>\n",
       "  <tbody>\n",
       "    <tr>\n",
       "      <th>0</th>\n",
       "      <td>2021-06-04</td>\n",
       "      <td>Mitsubishi Power Aero delivers vital power pro...</td>\n",
       "      <td>https://en.antaranews.com/news/175838/mitsubis...</td>\n",
       "    </tr>\n",
       "    <tr>\n",
       "      <th>1</th>\n",
       "      <td>2021-04-06</td>\n",
       "      <td>PW Power Systems will now be Mitsubishi Power ...</td>\n",
       "      <td>https://en.antaranews.com/news/171750/pw-power...</td>\n",
       "    </tr>\n",
       "    <tr>\n",
       "      <th>2</th>\n",
       "      <td>2020-12-02</td>\n",
       "      <td>Mitsubishi Power receives order for facility u...</td>\n",
       "      <td>https://en.antaranews.com/news/162884/mitsubis...</td>\n",
       "    </tr>\n",
       "    <tr>\n",
       "      <th>3</th>\n",
       "      <td>2020-09-01</td>\n",
       "      <td>Mitsubishi Power established with renewed comm...</td>\n",
       "      <td>https://en.antaranews.com/news/155486/mitsubis...</td>\n",
       "    </tr>\n",
       "    <tr>\n",
       "      <th>4</th>\n",
       "      <td>2020-04-26</td>\n",
       "      <td>MHPS announces new company name \"Mitsubishi Po...</td>\n",
       "      <td>https://en.antaranews.com/news/146836/mhps-ann...</td>\n",
       "    </tr>\n",
       "  </tbody>\n",
       "</table>\n",
       "</div>"
      ],
      "text/plain": [
       "         date                                              title  \\\n",
       "0  2021-06-04  Mitsubishi Power Aero delivers vital power pro...   \n",
       "1  2021-04-06  PW Power Systems will now be Mitsubishi Power ...   \n",
       "2  2020-12-02  Mitsubishi Power receives order for facility u...   \n",
       "3  2020-09-01  Mitsubishi Power established with renewed comm...   \n",
       "4  2020-04-26  MHPS announces new company name \"Mitsubishi Po...   \n",
       "\n",
       "                                                link  \n",
       "0  https://en.antaranews.com/news/175838/mitsubis...  \n",
       "1  https://en.antaranews.com/news/171750/pw-power...  \n",
       "2  https://en.antaranews.com/news/162884/mitsubis...  \n",
       "3  https://en.antaranews.com/news/155486/mitsubis...  \n",
       "4  https://en.antaranews.com/news/146836/mhps-ann...  "
      ]
     },
     "execution_count": 331,
     "metadata": {},
     "output_type": "execute_result"
    }
   ],
   "source": [
    "df.date = tmp\n",
    "df.head()"
   ]
  },
  {
   "cell_type": "code",
   "execution_count": 332,
   "id": "e617abe5",
   "metadata": {},
   "outputs": [
    {
     "name": "stdout",
     "output_type": "stream",
     "text": [
      "result_mitsubishi.csv\n"
     ]
    }
   ],
   "source": [
    "file = \"result_\"+keyword+\".csv\"\n",
    "print(file)\n",
    "df.to_csv(file, index=False)"
   ]
  },
  {
   "cell_type": "markdown",
   "id": "fc0c9ee8",
   "metadata": {},
   "source": [
    "# Sentiment Analysis TextBloB"
   ]
  },
  {
   "cell_type": "code",
   "execution_count": 333,
   "id": "8b3315ba",
   "metadata": {},
   "outputs": [
    {
     "data": {
      "text/html": [
       "<div>\n",
       "<style scoped>\n",
       "    .dataframe tbody tr th:only-of-type {\n",
       "        vertical-align: middle;\n",
       "    }\n",
       "\n",
       "    .dataframe tbody tr th {\n",
       "        vertical-align: top;\n",
       "    }\n",
       "\n",
       "    .dataframe thead th {\n",
       "        text-align: right;\n",
       "    }\n",
       "</style>\n",
       "<table border=\"1\" class=\"dataframe\">\n",
       "  <thead>\n",
       "    <tr style=\"text-align: right;\">\n",
       "      <th></th>\n",
       "      <th>date</th>\n",
       "      <th>title</th>\n",
       "      <th>link</th>\n",
       "    </tr>\n",
       "  </thead>\n",
       "  <tbody>\n",
       "    <tr>\n",
       "      <th>0</th>\n",
       "      <td>2021-06-04</td>\n",
       "      <td>Mitsubishi Power Aero delivers vital power pro...</td>\n",
       "      <td>https://en.antaranews.com/news/175838/mitsubis...</td>\n",
       "    </tr>\n",
       "    <tr>\n",
       "      <th>1</th>\n",
       "      <td>2021-04-06</td>\n",
       "      <td>PW Power Systems will now be Mitsubishi Power ...</td>\n",
       "      <td>https://en.antaranews.com/news/171750/pw-power...</td>\n",
       "    </tr>\n",
       "    <tr>\n",
       "      <th>2</th>\n",
       "      <td>2020-12-02</td>\n",
       "      <td>Mitsubishi Power receives order for facility u...</td>\n",
       "      <td>https://en.antaranews.com/news/162884/mitsubis...</td>\n",
       "    </tr>\n",
       "    <tr>\n",
       "      <th>3</th>\n",
       "      <td>2020-09-01</td>\n",
       "      <td>Mitsubishi Power established with renewed comm...</td>\n",
       "      <td>https://en.antaranews.com/news/155486/mitsubis...</td>\n",
       "    </tr>\n",
       "    <tr>\n",
       "      <th>4</th>\n",
       "      <td>2020-04-26</td>\n",
       "      <td>MHPS announces new company name \"Mitsubishi Po...</td>\n",
       "      <td>https://en.antaranews.com/news/146836/mhps-ann...</td>\n",
       "    </tr>\n",
       "  </tbody>\n",
       "</table>\n",
       "</div>"
      ],
      "text/plain": [
       "         date                                              title  \\\n",
       "0  2021-06-04  Mitsubishi Power Aero delivers vital power pro...   \n",
       "1  2021-04-06  PW Power Systems will now be Mitsubishi Power ...   \n",
       "2  2020-12-02  Mitsubishi Power receives order for facility u...   \n",
       "3  2020-09-01  Mitsubishi Power established with renewed comm...   \n",
       "4  2020-04-26  MHPS announces new company name \"Mitsubishi Po...   \n",
       "\n",
       "                                                link  \n",
       "0  https://en.antaranews.com/news/175838/mitsubis...  \n",
       "1  https://en.antaranews.com/news/171750/pw-power...  \n",
       "2  https://en.antaranews.com/news/162884/mitsubis...  \n",
       "3  https://en.antaranews.com/news/155486/mitsubis...  \n",
       "4  https://en.antaranews.com/news/146836/mhps-ann...  "
      ]
     },
     "execution_count": 333,
     "metadata": {},
     "output_type": "execute_result"
    }
   ],
   "source": [
    "df = pd.read_csv(\"result_\"+keyword+\".csv\")\n",
    "df.head()"
   ]
  },
  {
   "cell_type": "code",
   "execution_count": 334,
   "id": "2a084310",
   "metadata": {},
   "outputs": [
    {
     "name": "stdout",
     "output_type": "stream",
     "text": [
      "Mitsubishi Power Aero delivers vital power project to Mexico: RFP issuance to commercial operation in 145 days\n",
      "Sentiment(polarity=0.05, subjectivity=0.2)\n",
      "PW Power Systems will now be Mitsubishi Power Aero, signifying greater integration of the companies\n",
      "Sentiment(polarity=0.5, subjectivity=0.5)\n",
      "Mitsubishi Power receives order for facility upgrade at the Makban Geothermal Power Plant in the Philippines\n",
      "Sentiment(polarity=0.0, subjectivity=0.0)\n",
      "Mitsubishi Power established with renewed commitment to transforming energy systems around the world\n",
      "Sentiment(polarity=0.0, subjectivity=0.0)\n",
      "MHPS announces new company name \"Mitsubishi Power\"\n",
      "Sentiment(polarity=0.13636363636363635, subjectivity=0.45454545454545453)\n",
      "MHPS: World’s most efficient power plant is synced to the grid and operating at full load, ahead of schedule\n",
      "Sentiment(polarity=0.425, subjectivity=0.525)\n",
      "BKPM, Mitsubishi Chemical deliberate on investment expansion plan\n",
      "Sentiment(polarity=0.0, subjectivity=0.0)\n",
      "Mitsubishi Motors and Mitsubishi Corporation Invest in GOJEK, Indonesia's Leading Mobility Service Company\n",
      "Sentiment(polarity=0.0, subjectivity=0.0)\n",
      "Indonesia to be Mitsubishi's increasingly significant business base\n",
      "Sentiment(polarity=-0.21250000000000002, subjectivity=0.9375)\n",
      "Mitsubishi jaya elevator to increase local content in five years\n",
      "Sentiment(polarity=0.0, subjectivity=0.0)\n",
      "Mitsubishi car sales up 10.8 percent in 2012\n",
      "Sentiment(polarity=0.0, subjectivity=0.0)\n",
      "Petrochemical sales will increase by 500 thousand tonnes\n",
      "Sentiment(polarity=0.0, subjectivity=0.0)\n",
      "Kramayudha launches new Mitsubishi passenger car\n",
      "Sentiment(polarity=0.13636363636363635, subjectivity=0.45454545454545453)\n",
      "Mitsubishi takes over Daihatsu, Toyota still leads\n",
      "Sentiment(polarity=0.0, subjectivity=0.0)\n",
      "Mitsubishi plans to invest up to US$20 bln\n",
      "Sentiment(polarity=0.0, subjectivity=0.0)\n"
     ]
    }
   ],
   "source": [
    "for i in df.title:\n",
    "    print(i)\n",
    "    test = TextBlob(i)\n",
    "    print(test.sentiment)"
   ]
  },
  {
   "cell_type": "code",
   "execution_count": 335,
   "id": "79120ed3",
   "metadata": {},
   "outputs": [],
   "source": [
    "df.drop_duplicates(subset = 'title', keep = 'first', inplace = True)\n",
    "df['title'] = df['title'].astype('str')\n",
    "def get_polarity(text):\n",
    "    return TextBlob(text).sentiment.polarity\n",
    "df['Polarity'] = df['title'].apply(get_polarity)"
   ]
  },
  {
   "cell_type": "code",
   "execution_count": 336,
   "id": "bdbf430e",
   "metadata": {},
   "outputs": [
    {
     "data": {
      "text/html": [
       "<div>\n",
       "<style scoped>\n",
       "    .dataframe tbody tr th:only-of-type {\n",
       "        vertical-align: middle;\n",
       "    }\n",
       "\n",
       "    .dataframe tbody tr th {\n",
       "        vertical-align: top;\n",
       "    }\n",
       "\n",
       "    .dataframe thead th {\n",
       "        text-align: right;\n",
       "    }\n",
       "</style>\n",
       "<table border=\"1\" class=\"dataframe\">\n",
       "  <thead>\n",
       "    <tr style=\"text-align: right;\">\n",
       "      <th></th>\n",
       "      <th>date</th>\n",
       "      <th>title</th>\n",
       "      <th>link</th>\n",
       "      <th>Polarity</th>\n",
       "    </tr>\n",
       "  </thead>\n",
       "  <tbody>\n",
       "    <tr>\n",
       "      <th>0</th>\n",
       "      <td>2021-06-04</td>\n",
       "      <td>Mitsubishi Power Aero delivers vital power pro...</td>\n",
       "      <td>https://en.antaranews.com/news/175838/mitsubis...</td>\n",
       "      <td>0.050000</td>\n",
       "    </tr>\n",
       "    <tr>\n",
       "      <th>1</th>\n",
       "      <td>2021-04-06</td>\n",
       "      <td>PW Power Systems will now be Mitsubishi Power ...</td>\n",
       "      <td>https://en.antaranews.com/news/171750/pw-power...</td>\n",
       "      <td>0.500000</td>\n",
       "    </tr>\n",
       "    <tr>\n",
       "      <th>2</th>\n",
       "      <td>2020-12-02</td>\n",
       "      <td>Mitsubishi Power receives order for facility u...</td>\n",
       "      <td>https://en.antaranews.com/news/162884/mitsubis...</td>\n",
       "      <td>0.000000</td>\n",
       "    </tr>\n",
       "    <tr>\n",
       "      <th>3</th>\n",
       "      <td>2020-09-01</td>\n",
       "      <td>Mitsubishi Power established with renewed comm...</td>\n",
       "      <td>https://en.antaranews.com/news/155486/mitsubis...</td>\n",
       "      <td>0.000000</td>\n",
       "    </tr>\n",
       "    <tr>\n",
       "      <th>4</th>\n",
       "      <td>2020-04-26</td>\n",
       "      <td>MHPS announces new company name \"Mitsubishi Po...</td>\n",
       "      <td>https://en.antaranews.com/news/146836/mhps-ann...</td>\n",
       "      <td>0.136364</td>\n",
       "    </tr>\n",
       "    <tr>\n",
       "      <th>5</th>\n",
       "      <td>2020-04-02</td>\n",
       "      <td>MHPS: World’s most efficient power plant is sy...</td>\n",
       "      <td>https://en.antaranews.com/news/145294/mhps-wor...</td>\n",
       "      <td>0.425000</td>\n",
       "    </tr>\n",
       "    <tr>\n",
       "      <th>6</th>\n",
       "      <td>2020-01-22</td>\n",
       "      <td>BKPM, Mitsubishi Chemical deliberate on invest...</td>\n",
       "      <td>https://en.antaranews.com/news/140076/bkpm-mit...</td>\n",
       "      <td>0.000000</td>\n",
       "    </tr>\n",
       "    <tr>\n",
       "      <th>7</th>\n",
       "      <td>2019-07-08</td>\n",
       "      <td>Mitsubishi Motors and Mitsubishi Corporation I...</td>\n",
       "      <td>https://en.antaranews.com/news/128557/mitsubis...</td>\n",
       "      <td>0.000000</td>\n",
       "    </tr>\n",
       "    <tr>\n",
       "      <th>8</th>\n",
       "      <td>2019-05-18</td>\n",
       "      <td>Indonesia to be Mitsubishi's increasingly sign...</td>\n",
       "      <td>https://en.antaranews.com/news/125698/indonesi...</td>\n",
       "      <td>-0.212500</td>\n",
       "    </tr>\n",
       "    <tr>\n",
       "      <th>9</th>\n",
       "      <td>2018-09-08</td>\n",
       "      <td>Mitsubishi jaya elevator to increase local con...</td>\n",
       "      <td>https://en.antaranews.com/news/118310/mitsubis...</td>\n",
       "      <td>0.000000</td>\n",
       "    </tr>\n",
       "    <tr>\n",
       "      <th>10</th>\n",
       "      <td>2013-01-18</td>\n",
       "      <td>Mitsubishi car sales up 10.8 percent in 2012</td>\n",
       "      <td>https://en.antaranews.com/news/86944/mitsubish...</td>\n",
       "      <td>0.000000</td>\n",
       "    </tr>\n",
       "    <tr>\n",
       "      <th>11</th>\n",
       "      <td>2012-12-14</td>\n",
       "      <td>Petrochemical sales will increase by 500 thous...</td>\n",
       "      <td>https://en.antaranews.com/news/86186/petrochem...</td>\n",
       "      <td>0.000000</td>\n",
       "    </tr>\n",
       "    <tr>\n",
       "      <th>12</th>\n",
       "      <td>2012-07-10</td>\n",
       "      <td>Kramayudha launches new Mitsubishi passenger car</td>\n",
       "      <td>https://en.antaranews.com/news/83351/kramayudh...</td>\n",
       "      <td>0.136364</td>\n",
       "    </tr>\n",
       "    <tr>\n",
       "      <th>13</th>\n",
       "      <td>2011-07-08</td>\n",
       "      <td>Mitsubishi takes over Daihatsu, Toyota still l...</td>\n",
       "      <td>https://en.antaranews.com/news/73538/mitsubish...</td>\n",
       "      <td>0.000000</td>\n",
       "    </tr>\n",
       "    <tr>\n",
       "      <th>14</th>\n",
       "      <td>2011-03-03</td>\n",
       "      <td>Mitsubishi plans to invest up to US$20 bln</td>\n",
       "      <td>https://en.antaranews.com/news/68728/mitsubish...</td>\n",
       "      <td>0.000000</td>\n",
       "    </tr>\n",
       "  </tbody>\n",
       "</table>\n",
       "</div>"
      ],
      "text/plain": [
       "          date                                              title  \\\n",
       "0   2021-06-04  Mitsubishi Power Aero delivers vital power pro...   \n",
       "1   2021-04-06  PW Power Systems will now be Mitsubishi Power ...   \n",
       "2   2020-12-02  Mitsubishi Power receives order for facility u...   \n",
       "3   2020-09-01  Mitsubishi Power established with renewed comm...   \n",
       "4   2020-04-26  MHPS announces new company name \"Mitsubishi Po...   \n",
       "5   2020-04-02  MHPS: World’s most efficient power plant is sy...   \n",
       "6   2020-01-22  BKPM, Mitsubishi Chemical deliberate on invest...   \n",
       "7   2019-07-08  Mitsubishi Motors and Mitsubishi Corporation I...   \n",
       "8   2019-05-18  Indonesia to be Mitsubishi's increasingly sign...   \n",
       "9   2018-09-08  Mitsubishi jaya elevator to increase local con...   \n",
       "10  2013-01-18       Mitsubishi car sales up 10.8 percent in 2012   \n",
       "11  2012-12-14  Petrochemical sales will increase by 500 thous...   \n",
       "12  2012-07-10   Kramayudha launches new Mitsubishi passenger car   \n",
       "13  2011-07-08  Mitsubishi takes over Daihatsu, Toyota still l...   \n",
       "14  2011-03-03         Mitsubishi plans to invest up to US$20 bln   \n",
       "\n",
       "                                                 link  Polarity  \n",
       "0   https://en.antaranews.com/news/175838/mitsubis...  0.050000  \n",
       "1   https://en.antaranews.com/news/171750/pw-power...  0.500000  \n",
       "2   https://en.antaranews.com/news/162884/mitsubis...  0.000000  \n",
       "3   https://en.antaranews.com/news/155486/mitsubis...  0.000000  \n",
       "4   https://en.antaranews.com/news/146836/mhps-ann...  0.136364  \n",
       "5   https://en.antaranews.com/news/145294/mhps-wor...  0.425000  \n",
       "6   https://en.antaranews.com/news/140076/bkpm-mit...  0.000000  \n",
       "7   https://en.antaranews.com/news/128557/mitsubis...  0.000000  \n",
       "8   https://en.antaranews.com/news/125698/indonesi... -0.212500  \n",
       "9   https://en.antaranews.com/news/118310/mitsubis...  0.000000  \n",
       "10  https://en.antaranews.com/news/86944/mitsubish...  0.000000  \n",
       "11  https://en.antaranews.com/news/86186/petrochem...  0.000000  \n",
       "12  https://en.antaranews.com/news/83351/kramayudh...  0.136364  \n",
       "13  https://en.antaranews.com/news/73538/mitsubish...  0.000000  \n",
       "14  https://en.antaranews.com/news/68728/mitsubish...  0.000000  "
      ]
     },
     "execution_count": 336,
     "metadata": {},
     "output_type": "execute_result"
    }
   ],
   "source": [
    "df"
   ]
  },
  {
   "cell_type": "code",
   "execution_count": 337,
   "id": "ef3d2c74",
   "metadata": {},
   "outputs": [],
   "source": [
    "df['Sentiment_Type'] = ''\n",
    "df.loc[df.Polarity > 0,'Sentiment_Type']='POSITIVE'\n",
    "df.loc[df.Polarity == 0,'Sentiment_Type']='NEUTRAL'\n",
    "df.loc[df.Polarity < 0,'Sentiment_Type']='NEGATIVE'"
   ]
  },
  {
   "cell_type": "code",
   "execution_count": 338,
   "id": "8daadecb",
   "metadata": {},
   "outputs": [],
   "source": [
    "df.to_csv(\"result-antara-polarity-\" + keyword + \".csv\", index=False)"
   ]
  },
  {
   "cell_type": "code",
   "execution_count": null,
   "id": "b07d03ee",
   "metadata": {},
   "outputs": [],
   "source": []
  },
  {
   "cell_type": "code",
   "execution_count": null,
   "id": "c7d18736",
   "metadata": {},
   "outputs": [],
   "source": []
  },
  {
   "cell_type": "code",
   "execution_count": null,
   "id": "9c3a8c3d",
   "metadata": {},
   "outputs": [],
   "source": []
  },
  {
   "cell_type": "code",
   "execution_count": null,
   "id": "1808b797",
   "metadata": {},
   "outputs": [],
   "source": []
  },
  {
   "cell_type": "code",
   "execution_count": null,
   "id": "f5502cad",
   "metadata": {},
   "outputs": [],
   "source": []
  },
  {
   "cell_type": "code",
   "execution_count": null,
   "id": "267c390a",
   "metadata": {},
   "outputs": [],
   "source": []
  },
  {
   "cell_type": "code",
   "execution_count": 339,
   "id": "de8cb88a",
   "metadata": {},
   "outputs": [
    {
     "name": "stdout",
     "output_type": "stream",
     "text": [
      "Mitsubishi Power Aero delivers vital power project to Mexico: RFP issuance to commercial operation in 145 days\n"
     ]
    },
    {
     "ename": "AttributeError",
     "evalue": "'function' object has no attribute 'append'",
     "output_type": "error",
     "traceback": [
      "\u001b[1;31m---------------------------------------------------------------------------\u001b[0m",
      "\u001b[1;31mAttributeError\u001b[0m                            Traceback (most recent call last)",
      "\u001b[1;32m<timed exec>\u001b[0m in \u001b[0;36m<module>\u001b[1;34m\u001b[0m\n",
      "\u001b[1;31mAttributeError\u001b[0m: 'function' object has no attribute 'append'"
     ]
    }
   ],
   "source": [
    "%%time\n",
    "for i in article_link:\n",
    "    open_article_link(i)\n",
    "    article_.append(get_article_title())\n",
    "    print(get_article_title())\n",
    "    j = get_date()\n",
    "    j = j.split()\n",
    "    if j[2] == \"ago\":\n",
    "        j = recent_date()\n",
    "        date_.append(j)\n",
    "    else :\n",
    "        date_.append(j)"
   ]
  },
  {
   "cell_type": "code",
   "execution_count": 340,
   "id": "0a991fb4",
   "metadata": {},
   "outputs": [],
   "source": [
    "#first page\n",
    "#2 to last-1 page\n",
    "#last page"
   ]
  },
  {
   "cell_type": "code",
   "execution_count": 341,
   "id": "50dd8764",
   "metadata": {},
   "outputs": [],
   "source": [
    "def open_page(first_page):\n",
    "    first_page = generate_link_home()\n",
    "    chrome_options = Options()\n",
    "    chrome_options.add_argument(\"--headless\")\n",
    "    PATH = 'chromedriver.exe'\n",
    "    driver1 = webdriver.Chrome(PATH, options = chrome_options)\n",
    "    driver1.get(first_page)"
   ]
  },
  {
   "cell_type": "code",
   "execution_count": 342,
   "id": "c41b62d1",
   "metadata": {},
   "outputs": [],
   "source": [
    "#scrap link in one page\n",
    "def scrap_link_1page(link_store,n = article_per_page):\n",
    "    print(n)\n",
    "    for j in range(n):\n",
    "        j += 1\n",
    "        element = driver.find_element_by_xpath('//*[@id=\"main-container\"]/div[2]/div/div[1]/div[2]/div/article[' + str(j) + ']/header/h3/a')\n",
    "        href = element.get_attribute('href')\n",
    "        link_store.append(href)"
   ]
  },
  {
   "cell_type": "code",
   "execution_count": 343,
   "id": "61a968f9",
   "metadata": {},
   "outputs": [],
   "source": [
    "def close_page():\n",
    "    driver1.quit()"
   ]
  },
  {
   "cell_type": "code",
   "execution_count": 344,
   "id": "744c37aa",
   "metadata": {},
   "outputs": [],
   "source": [
    "def scrap_article(n):\n",
    "    store = []\n",
    "    for i in n:\n",
    "        open_page()\n",
    "        scrap_link_1page(store)\n",
    "        close_page()\n",
    "        \n",
    "    return store"
   ]
  },
  {
   "cell_type": "code",
   "execution_count": 345,
   "id": "15e1ab1d",
   "metadata": {},
   "outputs": [
    {
     "ename": "TypeError",
     "evalue": "scrap_article() missing 1 required positional argument: 'n'",
     "output_type": "error",
     "traceback": [
      "\u001b[1;31m---------------------------------------------------------------------------\u001b[0m",
      "\u001b[1;31mTypeError\u001b[0m                                 Traceback (most recent call last)",
      "\u001b[1;32m<ipython-input-345-cc0e09b07688>\u001b[0m in \u001b[0;36m<module>\u001b[1;34m\u001b[0m\n\u001b[1;32m----> 1\u001b[1;33m \u001b[0marray\u001b[0m \u001b[1;33m=\u001b[0m \u001b[0mscrap_article\u001b[0m\u001b[1;33m(\u001b[0m\u001b[1;33m)\u001b[0m\u001b[1;33m\u001b[0m\u001b[1;33m\u001b[0m\u001b[0m\n\u001b[0m",
      "\u001b[1;31mTypeError\u001b[0m: scrap_article() missing 1 required positional argument: 'n'"
     ]
    }
   ],
   "source": [
    "array = scrap_article()"
   ]
  },
  {
   "cell_type": "code",
   "execution_count": null,
   "id": "f43cdab8",
   "metadata": {},
   "outputs": [],
   "source": [
    "array"
   ]
  },
  {
   "cell_type": "code",
   "execution_count": null,
   "id": "2fda7130",
   "metadata": {},
   "outputs": [],
   "source": [
    "chrome_options = Options()\n",
    "chrome_options.add_argument(\"--headless\")\n",
    "first_page = generate_link_home()\n",
    "print(first_page)\n",
    "PATH = 'chromedriver.exe'\n",
    "driver1 = webdriver.Chrome(PATH, options = chrome_options)\n",
    "driver1.get(first_page)\n",
    "\n",
    "link_store = []\n",
    "\n",
    "n = 10\n",
    "\n",
    "for j in range(n):\n",
    "    j += 1\n",
    "    element = driver.find_element_by_xpath('//*[@id=\"main-container\"]/div[2]/div/div[1]/div[2]/div/article[' + str(j) + ']/header/h3/a')\n",
    "    href = element.get_attribute('href')\n",
    "    link_store.append(href)\n",
    "\n",
    "driver1.quit()"
   ]
  },
  {
   "cell_type": "code",
   "execution_count": null,
   "id": "55d2c7a1",
   "metadata": {},
   "outputs": [],
   "source": [
    "num = 9\n",
    "def scrap_link_search(link):\n",
    "    for i in range(num):\n",
    "        j = i+1\n",
    "        element = driver.find_element_by_xpath('/html/body/div[2]/div/div[2]/article[' + str(j) + ']/a')\n",
    "        #element = driver.find_element_by_xpath('/html/body/div[2]/div/div[1]/div[1]/article[' + str(j) + ']/a')\n",
    "        href = element.get_attribute('href')\n",
    "        link.append(href)"
   ]
  },
  {
   "cell_type": "code",
   "execution_count": null,
   "id": "b150a988",
   "metadata": {},
   "outputs": [],
   "source": []
  }
 ],
 "metadata": {
  "kernelspec": {
   "display_name": "Python 3",
   "language": "python",
   "name": "python3"
  },
  "language_info": {
   "codemirror_mode": {
    "name": "ipython",
    "version": 3
   },
   "file_extension": ".py",
   "mimetype": "text/x-python",
   "name": "python",
   "nbconvert_exporter": "python",
   "pygments_lexer": "ipython3",
   "version": "3.8.10"
  }
 },
 "nbformat": 4,
 "nbformat_minor": 5
}
